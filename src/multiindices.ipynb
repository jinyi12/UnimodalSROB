{
 "cells": [
  {
   "cell_type": "code",
   "execution_count": 2,
   "metadata": {},
   "outputs": [],
   "source": [
    "import numpy as np\n",
    "import itertools\n",
    "import tabulate\n",
    "import pandas as pd"
   ]
  },
  {
   "cell_type": "code",
   "execution_count": 3,
   "metadata": {},
   "outputs": [],
   "source": [
    "def polynomial_form(x, p):\n",
    "    \"\"\"Polynomial representation of the reduced state snapshot data.\"\"\"\n",
    "    return [x**degree for degree in range(2, p+1)]\n"
   ]
  },
  {
   "cell_type": "code",
   "execution_count": 4,
   "metadata": {},
   "outputs": [
    {
     "name": "stdout",
     "output_type": "stream",
     "text": [
      "Number of valid multi-indices: 261\n",
      "Some example multi-indices:\n",
      "(0, 0, 0, 0, 0, 3)\n",
      "(0, 0, 0, 0, 1, 2)\n",
      "(0, 0, 0, 0, 2, 1)\n",
      "(0, 0, 0, 0, 3, 0)\n",
      "(0, 0, 0, 1, 0, 2)\n"
     ]
    }
   ],
   "source": [
    "import numpy as np\n",
    "import itertools\n",
    "\n",
    "# def generate_multi_indices(r, p):\n",
    "#     # Define a helper function to check if a combination meets the criteria\n",
    "#     def is_valid_combination(index):\n",
    "#         non_zeros = np.count_nonzero(index)\n",
    "#         return (sum(index) >= 3 and sum(index) <= 2*p) and non_zeros <= 2 and not ((max(index) > p) and non_zeros > 1)\n",
    "    \n",
    "#     # Generate and filter combinations on-the-fly\n",
    "#     valid_indices = []\n",
    "#     for combination in itertools.product(range(2*p+1), repeat=r):\n",
    "#         if is_valid_combination(combination):\n",
    "#             valid_indices.append(combination)\n",
    "    \n",
    "#     return valid_indices\n",
    "\n",
    "def generate_multi_indices(r, p):\n",
    "    def is_valid_combination(index):\n",
    "        non_zeros = np.count_nonzero(index)\n",
    "        return (sum(index) >= 3 and sum(index) <= 2*p) and non_zeros <= 2 and not ((max(index) > p) and non_zeros > 1)\n",
    "    \n",
    "    valid_indices = [combination for combination in itertools.product(range(2*p+1), repeat=r) if is_valid_combination(combination)]\n",
    "\n",
    "    sorted_valid_indices = sorted(valid_indices, key=lambda x: sum(x))\n",
    "    \n",
    "    return sorted_valid_indices\n",
    "\n",
    "# Test the function with smaller values to avoid crashing\n",
    "r = 6  # Reduced number of elements\n",
    "p = 4\n",
    "multi_indices = generate_multi_indices(r, p)\n",
    "print(f\"Number of valid multi-indices: {len(multi_indices)}\")\n",
    "# Print a few examples\n",
    "print(\"Some example multi-indices:\")\n",
    "for index in multi_indices[:5]:  # Print the first 5 examples\n",
    "    print(index)\n"
   ]
  },
  {
   "cell_type": "code",
   "execution_count": 5,
   "metadata": {},
   "outputs": [],
   "source": [
    "# import itertools\n",
    "\n",
    "# def generate_multi_indices(r, p):\n",
    "#     # Generate all possible combinations of r elements with values between 0 and p\n",
    "#     multi_indices = list(itertools.product(range(2*p+1), repeat=r))\n",
    "    \n",
    "#     # Filter out combinations where the sum of the elements is greater than p\n",
    "#     # multi_indices = [index for index in multi_indices if ((sum(index) <= p))] # standard case\n",
    "#     multi_indices = [index for index in multi_indices if ((sum(index) >= 3) and (sum(index) <= 2*p))]\n",
    "#     # multi_indices = [index for index in multi_indices if not ((max(index) > 3) and (min(index) != 0))]\n",
    "#     multi_indices = [index for index in multi_indices if not ((max(index) > p) and np.count_nonzero(index) > 1)]\n",
    "    \n",
    "#     # filter to retain only those multi_indices with 2 non-zero elements and 1 single non-zero element\n",
    "#     multi_indices = [index for index in multi_indices if (np.count_nonzero(index) <= 2)]\n",
    "    \n",
    "#     return multi_indices\n",
    "\n",
    "# # Test the function\n",
    "# r = 10\n",
    "# p = 4\n",
    "# multi_indices = generate_multi_indices(r, p)\n",
    "# print(multi_indices)\n",
    "# print(len(multi_indices))"
   ]
  },
  {
   "cell_type": "code",
   "execution_count": 6,
   "metadata": {},
   "outputs": [
    {
     "name": "stdout",
     "output_type": "stream",
     "text": [
      "Generated multi-indices:\n",
      "  x1    x2\n",
      "----  ----\n",
      "   0     3\n",
      "   1     2\n",
      "   2     1\n",
      "   3     0\n",
      "   0     4\n",
      "   2     2\n",
      "   4     0\n",
      "[ 8.  4.  2.  1. 16.  4.  1.]\n"
     ]
    }
   ],
   "source": [
    "import numpy as np\n",
    "\n",
    "def compute_polynomial_terms(x, multi_indices):\n",
    "    \"\"\"\n",
    "    Compute polynomial terms for a vector x based on provided multi-indices.\n",
    "\n",
    "    Args:\n",
    "    x (np.ndarray): Input vector of shape (N,), where N is the number of elements.\n",
    "    multi_indices (list of tuples): Multi-indices indicating the powers for each term.\n",
    "\n",
    "    Returns:\n",
    "    np.ndarray: A vector of computed polynomial terms, one for each multi-index.\n",
    "    \"\"\"\n",
    "    # Pre-compute powers of x up to the maximum degree specified by multi_indices\n",
    "    max_degree = max(max(index) for index in multi_indices)\n",
    "    powers = np.ones((len(x), max_degree + 1))\n",
    "    for degree in range(1, max_degree + 1):\n",
    "        powers[:, degree] = x ** degree\n",
    "    \n",
    "    # Initialize the result vector to store the computed polynomial term for each multi-index\n",
    "    result_vector = np.ones(len(multi_indices))\n",
    "    \n",
    "    for i, indices in enumerate(multi_indices):\n",
    "        term = 1\n",
    "        for var_index, power in enumerate(indices):\n",
    "            if power > 0:\n",
    "                term *= powers[var_index, power]\n",
    "            else:\n",
    "                term *= 1  # Multiply by 1 if the power is 0\n",
    "        result_vector[i] = term  # Assuming you want the sum of terms across all samples\n",
    "    \n",
    "    return result_vector\n",
    "\n",
    "# Example usage\n",
    "x = np.array([1, 2])  # Example vector with 4 elements (e.g., x1, x2, x3, x4)\n",
    "p = 2\n",
    "multi_indices = generate_multi_indices(len(x), p)\n",
    "\n",
    "# Compute polynomial terms\n",
    "print(\"Generated multi-indices:\")\n",
    "print(tabulate.tabulate(multi_indices, headers=[f\"x{i}\" for i in range(1, len(x)+1)]))\n",
    "polynomial_terms = compute_polynomial_terms(x, multi_indices)\n",
    "print(polynomial_terms)\n"
   ]
  },
  {
   "cell_type": "code",
   "execution_count": 7,
   "metadata": {},
   "outputs": [
    {
     "name": "stdout",
     "output_type": "stream",
     "text": [
      "[[2.700e+01 1.250e+02 3.430e+02]\n",
      " [1.800e+01 1.000e+02 2.940e+02]\n",
      " [1.200e+01 8.000e+01 2.520e+02]\n",
      " [8.000e+00 6.400e+01 2.160e+02]\n",
      " [9.000e+00 7.500e+01 2.450e+02]\n",
      " [4.000e+00 4.800e+01 1.800e+02]\n",
      " [3.000e+00 4.500e+01 1.750e+02]\n",
      " [2.000e+00 3.600e+01 1.500e+02]\n",
      " [1.000e+00 2.700e+01 1.250e+02]\n",
      " [8.100e+01 6.250e+02 2.401e+03]\n",
      " [3.600e+01 4.000e+02 1.764e+03]\n",
      " [1.600e+01 2.560e+02 1.296e+03]\n",
      " [9.000e+00 2.250e+02 1.225e+03]\n",
      " [4.000e+00 1.440e+02 9.000e+02]\n",
      " [1.000e+00 8.100e+01 6.250e+02]]\n"
     ]
    }
   ],
   "source": [
    "import numpy as np\n",
    "\n",
    "def compute_polynomial_terms_2d_transposed(X, multi_indices):\n",
    "    \"\"\"\n",
    "    Compute polynomial terms for a 2D array X transposed, where each row is a variable\n",
    "    and each column a sample, based on provided multi_indices. The output is structured\n",
    "    so that each row corresponds to a polynomial term and each column to a sample.\n",
    "\n",
    "    Args:\n",
    "    X (np.ndarray): Input 2D array of shape (N, M), where N is the number of variables and M is the number of samples.\n",
    "    multi_indices (list of tuples): Multi-indices indicating the powers for each term.\n",
    "\n",
    "    Returns:\n",
    "    np.ndarray: A 2D array of computed polynomial terms, with shape (len(multi_indices), M),\n",
    "                where each row corresponds to a polynomial term and each column to a sample.\n",
    "    \"\"\"\n",
    "    N, M = X.shape\n",
    "    max_degree = max(max(index) for index in multi_indices)\n",
    "    \n",
    "    # Pre-compute powers of each variable (row in X) up to the maximum degree\n",
    "    powers = np.ones((N, max_degree + 1, M))\n",
    "    for n in range(N):\n",
    "        for degree in range(1, max_degree + 1):\n",
    "            powers[n, degree, :] = X[n, :] ** degree\n",
    "\n",
    "    # Initialize the result array to store the computed polynomial term for each multi-index\n",
    "    result_array = np.ones((len(multi_indices), M))\n",
    "\n",
    "    for i, indices in enumerate(multi_indices):\n",
    "        term = np.ones(M)\n",
    "        for n, power in enumerate(indices):\n",
    "            if power > 0:\n",
    "                term *= powers[n, power, :]\n",
    "        result_array[i, :] = term\n",
    "\n",
    "    return result_array\n",
    "\n",
    "# Example usage\n",
    "X = np.array([[1, 3, 5], [2, 4, 6], [3, 5, 7]])  # Example 2D array with 2 variables (N = 2) and 3 samples (M = 3)\n",
    "p = 2\n",
    "# Assuming generate_multi_indices is defined as before and suitable for the context\n",
    "multi_indices = generate_multi_indices(X.shape[0], p)  \n",
    "\n",
    "# Compute polynomial terms for 2D array X, with the specified output shape\n",
    "polynomial_terms_2d_transposed = compute_polynomial_terms_2d_transposed(X, multi_indices)\n",
    "print(polynomial_terms_2d_transposed)\n"
   ]
  },
  {
   "cell_type": "code",
   "execution_count": 8,
   "metadata": {},
   "outputs": [
    {
     "name": "stdout",
     "output_type": "stream",
     "text": [
      "Generated 15 multi-indices:\n"
     ]
    },
    {
     "data": {
      "text/plain": [
       "[(0, 0, 3),\n",
       " (0, 1, 2),\n",
       " (0, 2, 1),\n",
       " (0, 3, 0),\n",
       " (1, 0, 2),\n",
       " (1, 2, 0),\n",
       " (2, 0, 1),\n",
       " (2, 1, 0),\n",
       " (3, 0, 0),\n",
       " (0, 0, 4),\n",
       " (0, 2, 2),\n",
       " (0, 4, 0),\n",
       " (2, 0, 2),\n",
       " (2, 2, 0),\n",
       " (4, 0, 0)]"
      ]
     },
     "execution_count": 8,
     "metadata": {},
     "output_type": "execute_result"
    }
   ],
   "source": [
    "print(f\"Generated {len(multi_indices)} multi-indices:\")\n",
    "multi_indices"
   ]
  },
  {
   "cell_type": "code",
   "execution_count": 9,
   "metadata": {},
   "outputs": [
    {
     "name": "stdout",
     "output_type": "stream",
     "text": [
      "-  -  -\n",
      "1  3  5\n",
      "2  4  6\n",
      "3  5  7\n",
      "-  -  -\n",
      "--  ---  ----\n",
      "27  125   343\n",
      "18  100   294\n",
      "12   80   252\n",
      " 8   64   216\n",
      " 9   75   245\n",
      " 4   48   180\n",
      " 3   45   175\n",
      " 2   36   150\n",
      " 1   27   125\n",
      "81  625  2401\n",
      "36  400  1764\n",
      "16  256  1296\n",
      " 9  225  1225\n",
      " 4  144   900\n",
      " 1   81   625\n",
      "--  ---  ----\n"
     ]
    }
   ],
   "source": [
    "# print tabulated results without index column\n",
    "print(tabulate.tabulate(pd.DataFrame(X), showindex=False))\n",
    "print(tabulate.tabulate(pd.DataFrame(polynomial_terms_2d_transposed), showindex=False))"
   ]
  },
  {
   "cell_type": "code",
   "execution_count": 8,
   "metadata": {},
   "outputs": [
    {
     "name": "stdout",
     "output_type": "stream",
     "text": [
      "\n",
      "  _     ._   __/__   _ _  _  _ _/_   Recorded: 12:29:28  Samples:  2\n",
      " /_//_/// /_\\ / //_// / //_'/ //     Duration: 0.109     CPU time: 0.109\n",
      "/   _/                      v4.6.2\n",
      "\n",
      "Program: /home/jy384/miniconda3/envs/fenicsx/lib/python3.11/site-packages/ipykernel_launcher.py --f=/home/jy384/.local/share/jupyter/runtime/kernel-v2-2784242boBaxynxw6ZN.json\n",
      "\n",
      "\u001b[31m0.109\u001b[0m \u001b[48;5;24m\u001b[38;5;15m<module>\u001b[0m  \u001b[2m../../../../../tmp/ipykernel_2794813/2493173622.py:1\u001b[0m\n",
      "\n",
      "\n"
     ]
    }
   ],
   "source": [
    "from pyinstrument import Profiler\n",
    "from OpInf import generate_multi_indices_efficient, monomial_degrees, gen_poly\n",
    "import numpy as np\n",
    "import numba as nb\n",
    "\n",
    "# # @nb.njit(fastmath=True)\n",
    "# def gen_poly(X, p, multi_indices=None):\n",
    "#     \"\"\"\n",
    "#     Compute polynomial terms for a 2D array X transposed, where each row\n",
    "#     is a variable and each column a sample, based on provided multiIndices.\n",
    "#     The output is structured so that each row corresponds to a polynomial\n",
    "#     term and each column to a sample.\n",
    "\n",
    "#     Parameters:\n",
    "#     X (np.ndarray): N-by-M data matrix where N is the number of variables, M is the number of samples.\n",
    "#     p (int): Degree of the polynomial.\n",
    "\n",
    "#     Returns:\n",
    "#     resultArray (np.ndarray): Array containing the computed polynomial terms.\n",
    "#     \"\"\"\n",
    "#     N, M = X.shape\n",
    "#     # print(\"N: \", N)\n",
    "#     # print(\"M: \", M)\n",
    "#     if multi_indices is None:\n",
    "#         raise ValueError(\"Multi-indices must be provided for this function\")\n",
    "\n",
    "#     # print(\"Generated {} multi-indices...\".format(multi_indices.shape[0]))\n",
    "#     # print(\"The multi-indices are: \", multi_indices)\n",
    "\n",
    "#     max_degree = 2 * p\n",
    "\n",
    "#     powers = np.ones((N, max_degree + 1, M), dtype=X.dtype)\n",
    "#     for n in range(N):\n",
    "#         for degree in range(1, max_degree + 1):\n",
    "#             powers[n, degree, :] = X[n, :] ** degree\n",
    "\n",
    "#     resultArray = np.ones((multi_indices.shape[0], M), dtype=X.dtype)\n",
    "#     for i, indices in enumerate(multi_indices):\n",
    "#         term = np.ones(M)\n",
    "#         for n in range(N):\n",
    "#             power = indices[n]  # Use directly for Python's zero-based indexing\n",
    "#             if power > 0:  # Check if power is > 0, since 0th degree is already handled\n",
    "#                 term *= powers[n, power, :]\n",
    "#         resultArray[i, :] = term\n",
    "\n",
    "#     return resultArray\n",
    "\n",
    "p = 2\n",
    "n_var = 50\n",
    "n_timesteps = 10000\n",
    "multi_indices = generate_multi_indices_efficient(n_var, p)\n",
    "\n",
    "\n",
    "X = np.random.rand(n_var, n_timesteps)\n",
    "\n",
    "profiler = Profiler()\n",
    "\n",
    "try:\n",
    "    profiler.stop()\n",
    "except RuntimeError:\n",
    "    pass\n",
    "\n",
    "profiler.start()\n",
    "poly = gen_poly(X, p, multi_indices)\n",
    "profiler.stop()\n",
    "\n",
    "print(profiler.output_text(unicode=True, color=True))"
   ]
  },
  {
   "cell_type": "code",
   "execution_count": 10,
   "metadata": {},
   "outputs": [
    {
     "name": "stdout",
     "output_type": "stream",
     "text": [
      "\n",
      "  _     ._   __/__   _ _  _  _ _/_   Recorded: 12:09:46  Samples:  2\n",
      " /_//_/// /_\\ / //_// / //_'/ //     Duration: 0.290     CPU time: 0.140\n",
      "/   _/                      v4.6.2\n",
      "\n",
      "Program: /home/jy384/miniconda3/envs/fenicsx/lib/python3.11/site-packages/ipykernel_launcher.py --f=/home/jy384/.local/share/jupyter/runtime/kernel-v2-2784242Oj2tuvVd650E.json\n",
      "\n",
      "\u001b[31m0.289\u001b[0m \u001b[48;5;24m\u001b[38;5;15m<module>\u001b[0m  \u001b[2m../../../../../tmp/ipykernel_2790200/4134463422.py:1\u001b[0m\n",
      "\n",
      "\n"
     ]
    }
   ],
   "source": [
    "X = np.random.rand(n_var, n_timesteps)\n",
    "\n",
    "profiler = Profiler()\n",
    "\n",
    "try:\n",
    "    profiler.stop()\n",
    "except RuntimeError:\n",
    "    pass\n",
    "\n",
    "profiler.start()\n",
    "poly = gen_poly(X, p, multi_indices)\n",
    "profiler.stop()\n",
    "\n",
    "print(profiler.output_text(unicode=True, color=True))"
   ]
  },
  {
   "cell_type": "code",
   "execution_count": 7,
   "metadata": {},
   "outputs": [
    {
     "name": "stdout",
     "output_type": "stream",
     "text": [
      "\n",
      "  _     ._   __/__   _ _  _  _ _/_   Recorded: 12:09:06  Samples:  2\n",
      " /_//_/// /_\\ / //_// / //_'/ //     Duration: 1.898     CPU time: 12.306\n",
      "/   _/                      v4.6.2\n",
      "\n",
      "Program: /home/jy384/miniconda3/envs/fenicsx/lib/python3.11/site-packages/ipykernel_launcher.py --f=/home/jy384/.local/share/jupyter/runtime/kernel-v2-2784242Oj2tuvVd650E.json\n",
      "\n",
      "\u001b[31m1.898\u001b[0m \u001b[48;5;24m\u001b[38;5;15m<module>\u001b[0m  \u001b[2m../../../../../tmp/ipykernel_2790200/4134463422.py:1\u001b[0m\n",
      "\n",
      "\n"
     ]
    }
   ],
   "source": [
    "X = np.random.rand(n_var, n_timesteps)\n",
    "\n",
    "profiler = Profiler()\n",
    "\n",
    "try:\n",
    "    profiler.stop()\n",
    "except RuntimeError:\n",
    "    pass\n",
    "\n",
    "profiler.start()\n",
    "poly = gen_poly(X, p, multi_indices)\n",
    "profiler.stop()\n",
    "\n",
    "print(profiler.output_text(unicode=True, color=True))"
   ]
  },
  {
   "cell_type": "code",
   "execution_count": 4,
   "metadata": {},
   "outputs": [],
   "source": [
    "# import numpy as np\n",
    "\n",
    "# @nb.njit(fastmath=True, parallel=True)\n",
    "# def gen_poly_vec(X, p, multi_indices=None):\n",
    "#     # N, M = X.shape\n",
    "#     # if multi_indices is None:\n",
    "#     #     raise ValueError(\"Multi-indices must be provided for this function\")\n",
    "\n",
    "#     # max_degree = 2 * p\n",
    "    \n",
    "#     X = X[:, np.newaxis, :]\n",
    "#     multi_indices = multi_indices.T[:, :, np.newaxis]\n",
    "\n",
    "#     resultArray = np.power(X, multi_indices).prod()\n",
    "#     # resultArray = np.prod(np.power(X[:, np.newaxis, :], multi_indices), axis=0)\n",
    "\n",
    "#     return resultArray"
   ]
  },
  {
   "cell_type": "code",
   "execution_count": 1,
   "metadata": {},
   "outputs": [],
   "source": [
    "\n",
    "# profiler = Profiler()\n",
    "\n",
    "# try:\n",
    "#     profiler.stop()\n",
    "# except RuntimeError:\n",
    "#     pass\n",
    "\n",
    "# # profiler.start()\n",
    "# poly_vec = gen_poly_vec(X, p, multi_indices)\n",
    "# profiler.stop()\n",
    "\n",
    "# print(profiler.output_text(unicode=True, color=True))"
   ]
  },
  {
   "cell_type": "code",
   "execution_count": 12,
   "metadata": {},
   "outputs": [
    {
     "data": {
      "text/plain": [
       "True"
      ]
     },
     "execution_count": 12,
     "metadata": {},
     "output_type": "execute_result"
    }
   ],
   "source": [
    "# np.allclose(poly, poly_vec)"
   ]
  },
  {
   "cell_type": "code",
   "execution_count": 3,
   "metadata": {},
   "outputs": [
    {
     "data": {
      "text/plain": [
       "<pyinstrument.session.Session at 0x7f3331f97210>"
      ]
     },
     "execution_count": 3,
     "metadata": {},
     "output_type": "execute_result"
    }
   ],
   "source": [
    "# profiler = Profiler()\n",
    "\n",
    "# try:\n",
    "#     profiler.stop()\n",
    "# except RuntimeError:\n",
    "#     pass\n",
    "\n",
    "# profiler.start()\n",
    "# poly = gen_poly_jax(X, p, multi_indices)\n",
    "# profiler.stop()"
   ]
  },
  {
   "cell_type": "code",
   "execution_count": 4,
   "metadata": {},
   "outputs": [
    {
     "name": "stdout",
     "output_type": "stream",
     "text": [
      "\n",
      "  _     ._   __/__   _ _  _  _ _/_   Recorded: 23:06:19  Samples:  92\n",
      " /_//_/// /_\\ / //_// / //_'/ //     Duration: 0.521     CPU time: 0.442\n",
      "/   _/                      v4.6.2\n",
      "\n",
      "Program: /home/jy384/miniconda3/envs/fenicsx/lib/python3.11/site-packages/ipykernel_launcher.py --f=/home/jy384/.local/share/jupyter/runtime/kernel-v2-2202794wNt1bA309SBf.json\n",
      "\n",
      "\u001b[31m0.520\u001b[0m \u001b[48;5;24m\u001b[38;5;15m<module>\u001b[0m  \u001b[2m../../../../../tmp/ipykernel_2421558/2258413166.py:1\u001b[0m\n",
      "└─ \u001b[31m0.520\u001b[0m \u001b[48;5;24m\u001b[38;5;15mgen_poly_jax\u001b[0m  \u001b[2mOpInf.py:50\u001b[0m\n",
      "   └─ \u001b[31m0.520\u001b[0m vmap_f\u001b[0m  \u001b[2mjax/_src/api.py:1227\u001b[0m\n",
      "         [2 frames hidden]  \u001b[2mjax\u001b[0m\n",
      "            \u001b[31m0.520\u001b[0m WrappedFun.call_wrapped\u001b[0m  \u001b[2mjax/_src/linear_util.py:178\u001b[0m\n",
      "            ├─ \u001b[31m0.375\u001b[0m \u001b[48;5;24m\u001b[38;5;15m<lambda>\u001b[0m  \u001b[2mOpInf.py:70\u001b[0m\n",
      "            │  ├─ \u001b[31m0.347\u001b[0m arange\u001b[0m  \u001b[2mjax/_src/numpy/lax_numpy.py:2482\u001b[0m\n",
      "            │  │     [53 frames hidden]  \u001b[2mjax, jaxlib, importlib\u001b[0m\n",
      "            │  │        \u001b[33m0.194\u001b[0m batched_device_put\u001b[0m  \u001b[2mjax/_src/interpreters/pxla.py:169\u001b[0m\n",
      "            │  ├─ \u001b[92m\u001b[2m0.022\u001b[0m power\u001b[0m  \u001b[2mjax/_src/numpy/ufuncs.py:328\u001b[0m\n",
      "            │  │     [20 frames hidden]  \u001b[2mjax\u001b[0m\n",
      "            │  └─ \u001b[92m\u001b[2m0.006\u001b[0m ArrayImpl.__getitem__\u001b[0m  \u001b[2mjax/_src/array.py:311\u001b[0m\n",
      "            │        [18 frames hidden]  \u001b[2mjax\u001b[0m\n",
      "            └─ \u001b[33m0.145\u001b[0m \u001b[48;5;24m\u001b[38;5;15m<lambda>\u001b[0m  \u001b[2mOpInf.py:73\u001b[0m\n",
      "               ├─ \u001b[32m0.068\u001b[0m ArrayImpl.__getitem__\u001b[0m  \u001b[2mjax/_src/array.py:311\u001b[0m\n",
      "               │     [101 frames hidden]  \u001b[2mjax\u001b[0m\n",
      "               ├─ \u001b[32m0.033\u001b[0m BatchTracer.op\u001b[0m  \u001b[2mjax/_src/numpy/array_methods.py:735\u001b[0m\n",
      "               │     [24 frames hidden]  \u001b[2mjax\u001b[0m\n",
      "               ├─ \u001b[92m\u001b[2m0.026\u001b[0m prod\u001b[0m  \u001b[2mjax/_src/numpy/reductions.py:241\u001b[0m\n",
      "               │     [20 frames hidden]  \u001b[2mjax\u001b[0m\n",
      "               └─ \u001b[92m\u001b[2m0.018\u001b[0m where\u001b[0m  \u001b[2mjax/_src/numpy/lax_numpy.py:1083\u001b[0m\n",
      "                     [20 frames hidden]  \u001b[2mjax\u001b[0m\n",
      "\n",
      "\n"
     ]
    }
   ],
   "source": [
    "# print(profiler.output_text(unicode=True, color=True))"
   ]
  }
 ],
 "metadata": {
  "kernelspec": {
   "display_name": "fenicsx",
   "language": "python",
   "name": "python3"
  },
  "language_info": {
   "codemirror_mode": {
    "name": "ipython",
    "version": 3
   },
   "file_extension": ".py",
   "mimetype": "text/x-python",
   "name": "python",
   "nbconvert_exporter": "python",
   "pygments_lexer": "ipython3",
   "version": "3.11.8"
  }
 },
 "nbformat": 4,
 "nbformat_minor": 2
}
